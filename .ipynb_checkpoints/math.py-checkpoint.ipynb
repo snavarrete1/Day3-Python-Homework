{
 "cells": [
  {
   "cell_type": "code",
   "execution_count": 41,
   "metadata": {},
   "outputs": [
    {
     "name": "stdout",
     "output_type": "stream",
     "text": [
      "Enter the length in feet: 889\n",
      "Enter the width in feet:788\n",
      "The area of the house is 700532.0 square feet\n",
      "Enter radius of circle:6\n",
      "Circumference of circle = 37.68 \n",
      "\n"
     ]
    }
   ],
   "source": [
    "# SquareFoot\n",
    "\n",
    "length = float(input('Enter the length in feet: '))\n",
    "width = float(input('Enter the width in feet:'))\n",
    "\n",
    "area = length * width\n",
    "\n",
    "print(\"The area of the house is\", area, \"square feet\")\n",
    "\n",
    "# Circumference of a circle\n",
    "\n",
    "rad = input (\"Enter radius of circle:\")\n",
    "radius = float(rad)\n",
    "Circumference = 2 * 3.14 * radius\n",
    "\n",
    "print('Circumference of circle =', Circumference,'\\n')\n",
    "\n",
    "\n",
    "\n"
   ]
  }
 ],
 "metadata": {
  "kernelspec": {
   "display_name": "Python 3",
   "language": "python",
   "name": "python3"
  },
  "language_info": {
   "codemirror_mode": {
    "name": "ipython",
    "version": 3
   },
   "file_extension": ".py",
   "mimetype": "text/x-python",
   "name": "python",
   "nbconvert_exporter": "python",
   "pygments_lexer": "ipython3",
   "version": "3.7.6"
  }
 },
 "nbformat": 4,
 "nbformat_minor": 4
}
